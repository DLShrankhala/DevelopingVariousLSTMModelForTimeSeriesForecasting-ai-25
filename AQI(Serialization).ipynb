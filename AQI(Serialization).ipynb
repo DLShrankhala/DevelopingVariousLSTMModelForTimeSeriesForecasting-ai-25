{
  "cells": [
    {
      "cell_type": "code",
      "execution_count": null,
      "metadata": {
        "colab": {
          "base_uri": "https://localhost:8080/"
        },
        "id": "OCjPaQFOjqdD",
        "outputId": "73d0eebd-6379-4dd1-ca8f-47f430396c27"
      },
      "outputs": [
        {
          "output_type": "stream",
          "name": "stdout",
          "text": [
            "Initial data:\n",
            "         Date     Country     Status  AQI Value\n",
            "0  15-06-2023  Uzbekistan   Moderate         93\n",
            "1  15-06-2023     Vatican       Good         34\n",
            "2  15-06-2023   Venezuela       Good          1\n",
            "3  15-06-2023     Vietnam   Moderate         96\n",
            "4  15-06-2023      Zambia  Unhealthy        167\n",
            "Data types after conversion:\n",
            "Date         datetime64[ns]\n",
            "Country              object\n",
            "Status               object\n",
            "AQI Value             int64\n",
            "Year                  int32\n",
            "Month                 int32\n",
            "Day                   int32\n",
            "dtype: object\n",
            "Preprocessing complete. Cleaned data saved to 'cleaned_sales.csv'.\n"
          ]
        }
      ],
      "source": [
        "import pandas as pd\n",
        "\n",
        "# Load the dataset\n",
        "df = pd.read_csv('AQI.csv')\n",
        "\n",
        "# Display the first few rows of the dataset\n",
        "print(\"Initial data:\")\n",
        "print(df.head())\n",
        "\n",
        "# Handle missing values by dropping rows with any missing values\n",
        "df.dropna(inplace=True)\n",
        "\n",
        "# Convert 'Date' column to datetime, with the correct format and setting dayfirst=True\n",
        "df['Date'] = pd.to_datetime(df['Date'], format='%d-%m-%Y')\n",
        "\n",
        "# Extract useful features from the 'Date' column\n",
        "df['Year'] = df['Date'].dt.year\n",
        "df['Month'] = df['Date'].dt.month\n",
        "df['Day'] = df['Date'].dt.day\n",
        "\n",
        "# Display the types of each column\n",
        "print(\"Data types after conversion:\")\n",
        "print(df.dtypes)\n",
        "\n",
        "# Save the cleaned data to a new CSV file\n",
        "df.to_csv('cleaned_sales.csv', index=False)\n",
        "\n",
        "print(\"Preprocessing complete. Cleaned data saved to 'cleaned_sales.csv'.\")\n"
      ]
    },
    {
      "cell_type": "code",
      "source": [
        "import pandas as pd\n",
        "\n",
        "# Load the dataset\n",
        "df = pd.read_csv('AQI.csv')\n",
        "\n",
        "# Display the first few rows of the dataset\n",
        "print(\"Initial data:\")\n",
        "print(df.head())\n",
        "\n",
        "# Handle missing values by dropping rows with any missing values\n",
        "df.dropna(inplace=True)\n",
        "\n",
        "# Convert 'Date' column to datetime, with the correct format and setting dayfirst=True\n",
        "df['Date'] = pd.to_datetime(df['Date'], format='%d-%m-%Y')\n",
        "\n",
        "# Extract useful features from the 'Date' column\n",
        "df['Year'] = df['Date'].dt.year\n",
        "df['Month'] = df['Date'].dt.month\n",
        "df['Day'] = df['Date'].dt.day\n",
        "\n",
        "# Display the types of each column\n",
        "print(\"Data types after conversion:\")\n",
        "print(df.dtypes)\n",
        "\n",
        "# Save the cleaned data to a new CSV file (Serialization)\n",
        "df.to_csv('cleaned_sales.csv', index=False)\n",
        "print(\"Preprocessing complete. Cleaned data saved to 'cleaned_sales.csv'.\")\n",
        "\n",
        "# Load the cleaned data from the CSV file (Deserialization)\n",
        "cleaned_df = pd.read_csv('cleaned_sales.csv')\n",
        "\n",
        "# Display the first few rows of the deserialized data\n",
        "print(\"Deserialized data:\")\n",
        "print(cleaned_df.head())\n"
      ],
      "metadata": {
        "colab": {
          "base_uri": "https://localhost:8080/"
        },
        "id": "cXmP-ejnRUO7",
        "outputId": "c794b5c6-02f9-4a34-e921-5a618d1bc6a2"
      },
      "execution_count": null,
      "outputs": [
        {
          "output_type": "stream",
          "name": "stdout",
          "text": [
            "Initial data:\n",
            "         Date     Country     Status  AQI Value\n",
            "0  15-06-2023  Uzbekistan   Moderate         93\n",
            "1  15-06-2023     Vatican       Good         34\n",
            "2  15-06-2023   Venezuela       Good          1\n",
            "3  15-06-2023     Vietnam   Moderate         96\n",
            "4  15-06-2023      Zambia  Unhealthy        167\n",
            "Data types after conversion:\n",
            "Date         datetime64[ns]\n",
            "Country              object\n",
            "Status               object\n",
            "AQI Value             int64\n",
            "Year                  int32\n",
            "Month                 int32\n",
            "Day                   int32\n",
            "dtype: object\n",
            "Preprocessing complete. Cleaned data saved to 'cleaned_sales.csv'.\n",
            "Deserialized data:\n",
            "         Date     Country     Status  AQI Value  Year  Month  Day\n",
            "0  2023-06-15  Uzbekistan   Moderate         93  2023      6   15\n",
            "1  2023-06-15     Vatican       Good         34  2023      6   15\n",
            "2  2023-06-15   Venezuela       Good          1  2023      6   15\n",
            "3  2023-06-15     Vietnam   Moderate         96  2023      6   15\n",
            "4  2023-06-15      Zambia  Unhealthy        167  2023      6   15\n"
          ]
        }
      ]
    }
  ],
  "metadata": {
    "colab": {
      "provenance": []
    },
    "kernelspec": {
      "display_name": "Python 3",
      "name": "python3"
    },
    "language_info": {
      "name": "python"
    }
  },
  "nbformat": 4,
  "nbformat_minor": 0
}